{
 "cells": [
  {
   "cell_type": "code",
   "execution_count": 61,
   "metadata": {},
   "outputs": [],
   "source": [
    "import json\n",
    "import numpy as np"
   ]
  },
  {
   "cell_type": "code",
   "execution_count": 62,
   "metadata": {
    "tags": [
     "outputPrepend"
    ]
   },
   "outputs": [
    {
     "output_type": "stream",
     "name": "stdout",
     "text": "[[[ 1.70000000e+01  9.89356637e-01 -2.85988510e-01 ... -5.52431107e-01\n    4.36863959e-01  0.00000000e+00]\n  [ 2.40000000e+01  1.76380754e+00 -7.06647873e-01 ... -4.60801303e-01\n    5.61480463e-01  0.00000000e+00]\n  [ 4.20000000e+01  2.71971560e+00 -6.84430301e-01 ... -2.15233475e-01\n    7.82613635e-01  0.00000000e+00]\n  ...\n  [ 2.34500000e+03  1.31907535e+00  2.41027236e-01 ...  5.96606433e-01\n    1.04223144e+00  0.00000000e+00]\n  [ 2.36400000e+03  9.74464297e-01 -4.17154074e-01 ...  3.64477634e-01\n    1.10331786e+00  0.00000000e+00]\n  [ 2.37600000e+03 -3.44062209e-01 -6.17107451e-01 ... -3.86934280e-02\n    4.19148862e-01  0.00000000e+00]]]\n"
    }
   ],
   "source": [
    "def load_data(filename):\n",
    "    with open('./data/' + filename) as json_file:\n",
    "        data = json.load(json_file)\n",
    "        return np.array(data)\n",
    "\n",
    "print(load_data(\"gestures_1581174980043.json\"))\n",
    "\n",
    ""
   ]
  },
  {
   "cell_type": "code",
   "execution_count": 63,
   "metadata": {
    "tags": [
     "outputPrepend",
     "outputPrepend"
    ]
   },
   "outputs": [],
   "source": [
    "data = load_data(\"gestures_1581174980043.json\")\n",
    "\n",
    "def data_to_vectors(data):\n",
    "    vectors = []\n",
    "    for gesture in data:\n",
    "        # for time_series in gesture:\n",
    "        for i in range(1, len(gesture)):\n",
    "            #print(gesture[i][1], gesture[i][2], gesture[i][3])\n",
    "            tmp = []\n",
    "            tmp.append(gesture[i][1] - gesture[i - 1][1])\n",
    "            tmp.append(gesture[i][2] - gesture[i - 1][2])\n",
    "            tmp.append(gesture[i][3] - gesture[i - 1][3])\n",
    "            vectors.append(tmp)\n",
    "    return vectors\n",
    "\n",
    "vectors = data_to_vectors(data)\n",
    "#print(str(len(data[0])) + \" \" + str(len(vectors)))\n",
    "    \n",
    ""
   ]
  },
  {
   "cell_type": "code",
   "execution_count": null,
   "metadata": {},
   "outputs": [],
   "source": []
  }
 ],
 "metadata": {
  "kernelspec": {
   "display_name": "Python 3",
   "language": "python",
   "name": "python3"
  },
  "language_info": {
   "codemirror_mode": {
    "name": "ipython",
    "version": 3
   },
   "file_extension": ".py",
   "mimetype": "text/x-python",
   "name": "python",
   "nbconvert_exporter": "python",
   "pygments_lexer": "ipython3",
   "version": "3.7.6-final"
  }
 },
 "nbformat": 4,
 "nbformat_minor": 4
}