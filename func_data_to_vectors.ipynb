{
 "cells": [
  {
   "cell_type": "code",
   "execution_count": 13,
   "metadata": {},
   "outputs": [],
   "source": [
    "import json\n",
    "import numpy as np"
   ]
  },
  {
   "cell_type": "code",
   "execution_count": 14,
   "metadata": {
    "tags": [
     "outputPrepend"
    ]
   },
   "outputs": [],
   "source": [
    "def load_data(filename):\n",
    "    with open('./data/' + filename) as json_file:\n",
    "        data = json.load(json_file)\n",
    "        return np.array(data)\n",
    "\n",
    "#print(load_data(\"gestures_1581174980043.json\"))\n",
    "\n",
    ""
   ]
  },
  {
   "cell_type": "code",
   "execution_count": 15,
   "metadata": {
    "tags": [
     "outputPrepend",
     "outputPrepend"
    ]
   },
   "outputs": [],
   "source": [
    "data = load_data(\"в покое.json\")\n",
    "\n",
    "def data_to_vectors(data):\n",
    "    vectors = []\n",
    "    for gesture in data:\n",
    "        # for time_series in gesture:\n",
    "        for i in range(1, len(gesture)):\n",
    "            #print(gesture[i][1], gesture[i][2], gesture[i][3])\n",
    "            tmp = []\n",
    "            #tmp.append(gesture[i][1] - gesture[i - 1][1])\n",
    "            #tmp.append(gesture[i][2] - gesture[i - 1][2])\n",
    "            #tmp.append(gesture[i][3] - gesture[i - 1][3])\n",
    "            tmp.append(gesture[i][1])\n",
    "            tmp.append(gesture[i][2])\n",
    "            tmp.append(gesture[i][3])\n",
    "            #tmp.append(gesture[i][4])\n",
    "            #tmp.append(gesture[i][5])\n",
    "            #tmp.append(gesture[i][6])\n",
    "            vectors.append(tmp)\n",
    "    return vectors\n",
    "\n",
    "vectors = data_to_vectors(data)\n",
    "#print(str(len(data[0])) + \" \" + str(len(vectors)))\n",
    "    \n"
   ]
  },
  {
   "cell_type": "code",
   "execution_count": null,
   "metadata": {},
   "outputs": [],
   "source": []
  }
 ],
 "metadata": {
  "kernelspec": {
   "display_name": "Python 3",
   "language": "python",
   "name": "python3"
  },
  "language_info": {
   "codemirror_mode": {
    "name": "ipython",
    "version": 3
   },
   "file_extension": ".py",
   "mimetype": "text/x-python",
   "name": "python",
   "nbconvert_exporter": "python",
   "pygments_lexer": "ipython3",
   "version": "3.7.6-final"
  }
 },
 "nbformat": 4,
 "nbformat_minor": 4
}