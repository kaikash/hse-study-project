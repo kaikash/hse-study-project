{
 "cells": [
  {
   "cell_type": "code",
   "execution_count": 1,
   "metadata": {},
   "outputs": [],
   "source": [
    "import numpy as np\n",
    "import scipy.signal\n",
    "import matplotlib.pyplot as plt\n",
    "import json"
   ]
  },
  {
   "cell_type": "code",
   "execution_count": 2,
   "metadata": {},
   "outputs": [],
   "source": [
    "def filter(vectors_accelerometer_x, ox):\n",
    "    order = 2\n",
    "    cutoff_freq = 0.6\n",
    "    sampling_freq = 10\n",
    "    sampling_duration = int(ox[len(ox) - 1])\n",
    "    number_of_samples = len(vectors_accelerometer_x)\n",
    "    normalized_cutoff_freq = 2 * cutoff_freq / sampling_freq\n",
    "    numerator_coeffs, denominator_coeffs = scipy.signal.butter(order, normalized_cutoff_freq)\n",
    "    filtered_signal = scipy.signal.lfilter(numerator_coeffs, denominator_coeffs, vectors_accelerometer_x)\n",
    "    return filtered_signal"
   ]
  },
  {
   "cell_type": "code",
   "execution_count": null,
   "metadata": {},
   "outputs": [],
   "source": []
  }
 ],
 "metadata": {
  "kernelspec": {
   "display_name": "Python 3",
   "language": "python",
   "name": "python3"
  },
  "language_info": {
   "codemirror_mode": {
    "name": "ipython",
    "version": 3
   },
   "file_extension": ".py",
   "mimetype": "text/x-python",
   "name": "python",
   "nbconvert_exporter": "python",
   "pygments_lexer": "ipython3",
   "version": "3.7.6"
  }
 },
 "nbformat": 4,
 "nbformat_minor": 4
}
