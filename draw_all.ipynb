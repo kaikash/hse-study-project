{
 "nbformat": 4,
 "nbformat_minor": 2,
 "metadata": {
  "language_info": {
   "name": "python",
   "codemirror_mode": {
    "name": "ipython",
    "version": 3
   }
  },
  "orig_nbformat": 2,
  "file_extension": ".py",
  "mimetype": "text/x-python",
  "name": "python",
  "npconvert_exporter": "python",
  "pygments_lexer": "ipython3",
  "version": 3
 },
 "cells": [
  {
   "cell_type": "code",
   "execution_count": null,
   "metadata": {},
   "outputs": [],
   "source": [
    "import plotly.graph_objects as go\n",
    "\n",
    "def draw_all():\n",
    "    x = []\n",
    "    y = []\n",
    "    z = []\n",
    "    for el in vectors:\n",
    "        x.append(el[0])\n",
    "        y.append(el[1])\n",
    "        z.append(el[2])\n",
    "\n",
    "    fig = go.Figure(data=[\n",
    "        go.Scatter3d(x=x, y=y, z=z, opacity=0.5, name='data in 3D')\n",
    "    ])\n",
    "\n",
    "    fig.update_layout(\n",
    "        scene = dict(aspectmode='cube'),\n",
    "        width=700,\n",
    "        margin=dict(r=20, l=10, b=10, t=10))\n",
    "\n",
    "    fig.show()\n",
    "\n",
    "\n",
    "\n",
    "\n",
    "    x = []\n",
    "    y = []\n",
    "    z = []\n",
    "    for el in plane_vectors:\n",
    "        x.append(el[0])\n",
    "        y.append(el[1])\n",
    "        z.append(el[2])\n",
    "\n",
    "    fig = go.Figure(data=[\n",
    "        go.Scatter3d(x=x, y=y, z=z, opacity=0.5, name='data in 3D')\n",
    "    ])\n",
    "\n",
    "    fig.update_layout(\n",
    "        scene = dict(aspectmode='cube'),\n",
    "        width=700,\n",
    "        margin=dict(r=20, l=10, b=10, t=10))\n",
    "\n",
    "    fig.show()"
   ]
  }
 ]
}