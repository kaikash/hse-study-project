{
 "cells": [
  {
   "cell_type": "code",
   "execution_count": 10,
   "metadata": {},
   "outputs": [
    {
     "name": "stdout",
     "output_type": "stream",
     "text": [
      "[0.22858324 0.05676253 0.97186816]\n",
      "1.000000000005\n"
     ]
    }
   ],
   "source": [
    "import numpy as np\n",
    "from scipy.optimize import minimize\n",
    "\n",
    "def objective(x):\n",
    "    summ = 0\n",
    "    for v in vectors:\n",
    "        summ += np.dot(v, x)\n",
    "    return summ\n",
    "\n",
    "def func_bound(x):\n",
    "    return sum(x ** 2) - 1\n",
    "condition = {'type': 'eq', 'fun' : func_bound}\n",
    "\n",
    "x0 = np.array([10, 10, 10])\n",
    "\n",
    "b = (0.0, 1.0)\n",
    "bnds = (b,b,b)\n",
    "\n",
    "res = minimize(objective, x0, method='SLSQP', constraints=condition, bounds=bnds)\n",
    "\n",
    "print(res.x)\n",
    "#print(res)\n",
    "print(\"{:.12f}\".format(func_bound(np.array(res.x)) + 1))"
   ]
  }
 ],
 "metadata": {
  "kernelspec": {
   "display_name": "Python 3",
   "language": "python",
   "name": "python3"
  },
  "language_info": {
   "codemirror_mode": {
    "name": "ipython",
    "version": 3
   },
   "file_extension": ".py",
   "mimetype": "text/x-python",
   "name": "python",
   "nbconvert_exporter": "python",
   "pygments_lexer": "ipython3",
   "version": "3.6.9"
  }
 },
 "nbformat": 4,
 "nbformat_minor": 2
}